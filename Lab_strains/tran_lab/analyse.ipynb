{
 "cells": [
  {
   "cell_type": "code",
   "execution_count": 1,
   "metadata": {},
   "outputs": [],
   "source": [
    "import pandas as pd\n",
    "read_file  = pd.read_excel('pombe strains_20210413.xlsx' )\n",
    "read_file.to_csv('pombe strains_20210413.tsv', sep='\\t') "
   ]
  },
  {
   "cell_type": "code",
   "execution_count": 2,
   "metadata": {},
   "outputs": [],
   "source": [
    "import pandas\n",
    "import re\n",
    "\n",
    "# We make a set to store the alleles\n",
    "allele_names = set([])\n",
    "data = pandas.read_csv('pombe strains_20210413.tsv', sep='\\t')\n",
    "\n",
    "# We force conversion to string, otherwise empty values are parsed as nans (floats)\n",
    "data['Genotype'] = data['Genotype'].astype(str)\n",
    "for genotype in data.Genotype:\n",
    "    # split the genotype by any separator and add the alleles names to the set\n",
    "    allele_names.update([a.lower() for a in  re.split(\"\\s+\",genotype)])\n",
    "\n"
   ]
  },
  {
   "cell_type": "code",
   "execution_count": 3,
   "metadata": {},
   "outputs": [],
   "source": [
    "# Read all gene names and identifiers\n",
    "\n",
    "systematic_ids = set()\n",
    "gene_names = set()\n",
    "other = set()\n",
    "gene_dictionary = dict()\n",
    "\n",
    "\n",
    "def add_gene_name(gene_name):\n",
    "    if re.match(r'[a-z]{3}\\d+',gene_name) is not None:\n",
    "        gene_names.add(gene_name)\n",
    "    elif re.match(r'SP.+\\.\\d+c?',gene_name) is not None:\n",
    "        systematic_ids.add(gene_name)\n",
    "    else:\n",
    "        other.add(gene_name)\n",
    "\n",
    "with open('../../data/gene_IDs_names.tsv') as ins:\n",
    "    # First line does not count\n",
    "    ins.readline()\n",
    "    for line in ins:\n",
    "        fields = line.strip().split('\\t')\n",
    "        add_gene_name(fields[0])\n",
    "        gene_dictionary[fields[0]] = fields[0]\n",
    "        if len(fields)>1:\n",
    "            add_gene_name(fields[1])\n",
    "            gene_dictionary[fields[1]] = fields[0]\n",
    "            if len(fields)>2:\n",
    "                if ',' in fields[2]:\n",
    "                    [add_gene_name(f) for f in fields[2].split(',')]\n",
    "                    for f in fields[2].split(','):\n",
    "                        add_gene_name(f)\n",
    "                        gene_dictionary[f] = fields[0]\n",
    "                else:\n",
    "                    add_gene_name(fields[2])\n",
    "                    gene_dictionary[fields[2]] = fields[0]"
   ]
  },
  {
   "cell_type": "code",
   "execution_count": 4,
   "metadata": {},
   "outputs": [],
   "source": [
    "allele_dictionary = dict()\n",
    "\n",
    "with open('../../data/alleles_pombemine.tsv') as ins:\n",
    "    for line in ins:\n",
    "        ls = line.strip().split('\\t')\n",
    "        if 'delta' not in ls[2]:\n",
    "            # Check if the key already exists, if not create a list with that value\n",
    "            systematic_id = ls[0]\n",
    "            allele_name = ls[2]\n",
    "            if systematic_id in allele_dictionary:\n",
    "                allele_dictionary[systematic_id].append(allele_name)\n",
    "            # Otherwise, append to the existing list\n",
    "            else:\n",
    "                allele_dictionary[systematic_id] = [allele_name]\n",
    "\n",
    "# All lists of alleles should be order in inverse order of length, so that you try to subsitute the longest names first,\n",
    "# for instance, you should try to replace cdc2-12 before cdc2-1\n",
    "\n",
    "for key in allele_dictionary:\n",
    "    allele_dictionary[key].sort(key=len,reverse=True)"
   ]
  },
  {
   "cell_type": "code",
   "execution_count": 5,
   "metadata": {},
   "outputs": [],
   "source": [
    "alleles_with_replaced_name = list()\n",
    "for genotype_allele in allele_names:\n",
    "\n",
    "    for name in re.findall(r'[a-z]{3}\\d+',genotype_allele):\n",
    "        if name in gene_names:\n",
    "\n",
    "            # Get the systematic id of the gene\n",
    "            systematic_id = gene_dictionary[name]\n",
    "\n",
    "            # Find the alleles of that gene and see if any of them is in the alelle name\n",
    "            allele_found = False\n",
    "            if systematic_id in allele_dictionary:\n",
    "                for published_allele in allele_dictionary[systematic_id]:\n",
    "                    if published_allele.lower() in genotype_allele:\n",
    "                        genotype_allele = genotype_allele.replace(published_allele.lower(),'ALLELE')\n",
    "                        allele_found = True\n",
    "                        break\n",
    "\n",
    "            # If the allele name was not found, replace with GENE\n",
    "            if not allele_found:\n",
    "                genotype_allele = genotype_allele.replace(name,'GENE')\n",
    "\n",
    "    # Here no caps, because we have changed all genotypes to no caps\n",
    "    for systematic_id in re.findall(r'sp.+\\.\\d+c?',genotype_allele):\n",
    "        if systematic_id in map(str.lower, systematic_ids):\n",
    "            allele_found = False\n",
    "            if systematic_id in allele_dictionary:\n",
    "                for published_allele in allele_dictionary[systematic_id]:\n",
    "                    if published_allele.lower() in genotype_allele:\n",
    "                        genotype_allele = genotype_allele.replace(published_allele.lower(),'ALLELE')\n",
    "                        allele_found = True\n",
    "                        break\n",
    "            \n",
    "            # If the allele name was not found, replace with GENE\n",
    "            if not allele_found:\n",
    "                genotype_allele = genotype_allele.replace(systematic_id,'GENE')\n",
    "\n",
    "    alleles_with_replaced_name.append(genotype_allele)"
   ]
  },
  {
   "cell_type": "code",
   "execution_count": 6,
   "metadata": {},
   "outputs": [],
   "source": [
    "markers = ['kanr','kanmx6','kanmx4','kanmx','hygr','hyg','hphmx','hphr','hph','natmx','natr','nat','kan','natmx6',r'\\d*myc',r'\\d*flag\\d*']\n",
    "\n",
    "for i in range(len(alleles_with_replaced_name)):\n",
    "    for marker in markers:\n",
    "        alleles_with_replaced_name[i] = re.sub(marker,'MARKER',alleles_with_replaced_name[i])\n",
    "\n",
    "tags = ['tdtomato','megfp','egfp','gfp','mcherry','cfp','spmneongreen','mneongreen','2xyfp','myfp','yfp']\n",
    "\n",
    "for i in range(len(alleles_with_replaced_name)):\n",
    "    for tag in tags:\n",
    "        alleles_with_replaced_name[i] = re.sub(tag,'TAG',alleles_with_replaced_name[i])\n",
    "\n",
    "# TODO: ask about adh promoter to authors, also prep81 and so probably wrongly used\n",
    "promoters = [r'p?nmt\\d*',r'p?adh\\d*',r'prep\\d*']\n",
    "\n",
    "for i in range(len(alleles_with_replaced_name)):\n",
    "    for promoter in promoters:\n",
    "        alleles_with_replaced_name[i] = re.sub(promoter,'PROMOTER',alleles_with_replaced_name[i])\n"
   ]
  },
  {
   "cell_type": "code",
   "execution_count": 7,
   "metadata": {},
   "outputs": [],
   "source": [
    "for i in range(len(alleles_with_replaced_name)):\n",
    "    alleles_with_replaced_name[i] = re.sub(r'[:-<\\.]+','-',alleles_with_replaced_name[i])\n",
    "    alleles_with_replaced_name[i] = re.sub(r'^-','',alleles_with_replaced_name[i])\n",
    "    alleles_with_replaced_name[i] = re.sub(r'-$','',alleles_with_replaced_name[i])\n"
   ]
  },
  {
   "cell_type": "code",
   "execution_count": 8,
   "metadata": {},
   "outputs": [
    {
     "name": "stdout",
     "output_type": "stream",
     "text": [
      "reduced by 0.36352064011638485\n"
     ]
    }
   ],
   "source": [
    "from collections import Counter\n",
    "\n",
    "counted = Counter(alleles_with_replaced_name)\n",
    "# Sort\n",
    "result = counted.most_common()\n",
    "\n",
    "# Write into file\n",
    "\n",
    "with open('pattern_identification.txt','w', encoding = 'utf-8') as out:\n",
    "    for r in result:\n",
    "        out.write(f'{r[0]} {r[1]}\\n')\n",
    "\n",
    "print('reduced by',1-len(result)/len(allele_names))"
   ]
  },
  {
   "cell_type": "code",
   "execution_count": 9,
   "metadata": {},
   "outputs": [],
   "source": [
    "def count_most_common_consecutive_N(file,n):\n",
    "    all_occurrences = []\n",
    "    with open(file,'r', encoding = 'utf-8') as ins:\n",
    "        for line in ins:\n",
    "            line = line.strip()\n",
    "            line = line.replace('GENE','')\n",
    "            line = line.replace('MARKER','')\n",
    "            line = line.replace('TAG','')\n",
    "            line = line.replace('ALLELE','')\n",
    "            line = line.replace('PROMOTER','')\n",
    "            if len(line)>=n:\n",
    "                all_occurrences += [line[i:i+ n] for i in range(0,len(line)-n+1)]\n",
    "    return Counter(all_occurrences)\n",
    "\n",
    "counted = count_most_common_consecutive_N('pattern_identification.txt',10)\n",
    "\n",
    "with open('identifiers_replaced.txt','w', encoding = 'utf8') as out:\n",
    "    for r in counted.most_common():\n",
    "        out.write(f'{r[0]} {r[1]}\\n') "
   ]
  }
 ],
 "metadata": {
  "kernelspec": {
   "display_name": "Python 3.9.7 ('base')",
   "language": "python",
   "name": "python3"
  },
  "language_info": {
   "codemirror_mode": {
    "name": "ipython",
    "version": 3
   },
   "file_extension": ".py",
   "mimetype": "text/x-python",
   "name": "python",
   "nbconvert_exporter": "python",
   "pygments_lexer": "ipython3",
   "version": "3.9.7"
  },
  "orig_nbformat": 4,
  "vscode": {
   "interpreter": {
    "hash": "07159c4ff0a5a7ed6e88ece63ff88bf7d33660e0afc57b56c7e9a63f41e164d5"
   }
  }
 },
 "nbformat": 4,
 "nbformat_minor": 2
}
